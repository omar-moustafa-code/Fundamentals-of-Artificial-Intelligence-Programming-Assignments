{
  "nbformat": 4,
  "nbformat_minor": 0,
  "metadata": {
    "colab": {
      "provenance": []
    },
    "kernelspec": {
      "name": "python3",
      "display_name": "Python 3"
    },
    "language_info": {
      "name": "python"
    }
  },
  "cells": [
    {
      "cell_type": "code",
      "execution_count": null,
      "metadata": {
        "cellView": "form",
        "id": "Zx0HaBT-VTI5"
      },
      "outputs": [],
      "source": [
        "# @title Omar's CSCE 3601 Assignment 3\n"
      ]
    },
    {
      "cell_type": "code",
      "source": [
        "# @title Question 1"
      ],
      "metadata": {
        "cellView": "form",
        "id": "HM1MSaW2XfBJ"
      },
      "execution_count": null,
      "outputs": []
    },
    {
      "cell_type": "code",
      "source": [
        "# @title Search for a program to build a classifier using decision trees & predict whether to accept loan applications of the given employees' data"
      ],
      "metadata": {
        "cellView": "form",
        "id": "rQ_AQsYGZODx"
      },
      "execution_count": null,
      "outputs": []
    },
    {
      "cell_type": "code",
      "source": [
        "# Importing necessary libraries\n",
        "import pandas as pd\n",
        "from sklearn.tree import DecisionTreeClassifier\n",
        "\n",
        "# Training data\n",
        "train_data = {\n",
        "    'Credit_History': ['bad','bad','good','bad','good','good','good','good','bad','bad'],\n",
        "    'Debt': ['high','low','high','high','low','high','high','low','high','low'],\n",
        "    'Marital_Status': ['married','single','divorced','divorced','single','married','single','married','divorced','married'],\n",
        "    'Income': [30, 25, 35, 45, 48, 55, 70, 38, 70, 90],\n",
        "    'Accept': ['No', 'No' ,'No' ,'No', 'Yes' ,'Yes' ,'Yes' ,'Yes' ,'No' ,'Yes']\n",
        "}\n",
        "\n",
        "df = pd.DataFrame(train_data)\n",
        "\n",
        "# Convert categorical data to numerical\n",
        "df_encoded = pd.get_dummies(df[['Credit_History', 'Debt', 'Marital_Status']])\n",
        "X_train = pd.concat([df_encoded, df['Income']], axis=1)\n",
        "y_train = df['Accept']\n",
        "\n",
        "# Fit decision tree\n",
        "clf = DecisionTreeClassifier()\n",
        "clf.fit(X_train, y_train)\n",
        "\n",
        "# Test applicants\n",
        "test_data = {\n",
        "    'CreditHistory': ['good', 'bad', 'bad', 'good'],\n",
        "    'Debt': ['high', 'low', 'high', 'low'],\n",
        "    'MaritalStatus': ['married', 'divorced', 'single', 'divorced'],\n",
        "    'Income': [80, 45, 65, 40]\n",
        "}\n",
        "df_test = pd.DataFrame(test_data)\n",
        "\n",
        "# Encode test data\n",
        "df_test_encoded = pd.get_dummies(df_test.rename(columns={\n",
        "    'CreditHistory': 'Credit_History',\n",
        "    'MaritalStatus': 'Marital_Status'\n",
        "}))\n",
        "df_test_encoded = df_test_encoded.reindex(columns=X_train.columns, fill_value=0)\n",
        "\n",
        "# Predict\n",
        "predictions = clf.predict(df_test_encoded)\n",
        "df_test['AcceptLoan'] = predictions\n",
        "\n",
        "# Output\n",
        "print(df_test)"
      ],
      "metadata": {
        "id": "-1-oxRxOVjOO",
        "colab": {
          "base_uri": "https://localhost:8080/"
        },
        "outputId": "5c6ca363-989f-450f-e94b-d9299bdb7120"
      },
      "execution_count": 23,
      "outputs": [
        {
          "output_type": "stream",
          "name": "stdout",
          "text": [
            "  CreditHistory  Debt MaritalStatus  Income AcceptLoan\n",
            "0          good  high       married      80        Yes\n",
            "1           bad   low      divorced      45         No\n",
            "2           bad  high        single      65        Yes\n",
            "3          good   low      divorced      40         No\n"
          ]
        }
      ]
    },
    {
      "cell_type": "code",
      "source": [
        "# @title Question 2"
      ],
      "metadata": {
        "cellView": "form",
        "id": "nkeSW82AXjHK"
      },
      "execution_count": null,
      "outputs": []
    },
    {
      "cell_type": "code",
      "source": [
        "# @title Implement an NB classifier to predict the label of each class row of the table in problem. Then test your classifier using the table given in 1b"
      ],
      "metadata": {
        "cellView": "form",
        "id": "BSSRIzP8ZwUc"
      },
      "execution_count": null,
      "outputs": []
    },
    {
      "cell_type": "code",
      "source": [
        "# Importing necessary libraries\n",
        "import pandas as pd\n",
        "from sklearn.naive_bayes import GaussianNB\n",
        "\n",
        "\n",
        "# Training data\n",
        "train_data = {\n",
        "   'CreditHistory': ['bad','bad','good','bad','good','good','good','good','bad','bad'],\n",
        "   'Debt':          ['high','low','high','high','low','high','high','low','high','low'],\n",
        "   'MaritalStatus':['married','single','divorced','divorced','single','married','single','married','divorced','married'],\n",
        "   'Income':       [30000,25000,35000,45000,48000,55000,70000,38000,70000,90000],\n",
        "   'AcceptLoan':   ['No','No','No','No','Yes','Yes','Yes','Yes','No','Yes']\n",
        "}\n",
        "df = pd.DataFrame(train_data)\n",
        "\n",
        "\n",
        "# Train model\n",
        "X = pd.get_dummies(df[['CreditHistory','Debt','MaritalStatus']])\n",
        "X['Income'] = df['Income']\n",
        "y = (df['AcceptLoan'] == 'Yes').astype(int)\n",
        "\n",
        "\n",
        "# New applicants\n",
        "applications = pd.DataFrame([\n",
        "   {'CreditHistory':'good','Debt':'high','MaritalStatus':'married','Income': 80000},\n",
        "   {'CreditHistory':'bad', 'Debt':'low', 'MaritalStatus':'divorced','Income': 45000},\n",
        "   {'CreditHistory':'bad', 'Debt':'high','MaritalStatus':'single','Income': 65000},\n",
        "   {'CreditHistory':'good','Debt':'low', 'MaritalStatus':'divorced','Income': 40000},\n",
        "])\n",
        "\n",
        "\n",
        "# Encode new applicants\n",
        "X_new = pd.get_dummies(applications[['CreditHistory','Debt','MaritalStatus']])\n",
        "for col in X.columns.drop('Income'):\n",
        "   if col not in X_new.columns:\n",
        "       X_new[col] = 0\n",
        "X_new = X_new[X.columns.drop('Income')]\n",
        "X_new['Income'] = applications['Income']\n",
        "\n",
        "\n",
        "# Predict loan approval\n",
        "model = GaussianNB()\n",
        "model.fit(X, y)\n",
        "predictions = model.predict(X_new)\n",
        "\n",
        "\n",
        "# Output results\n",
        "applications['AcceptLoan'] = ['Yes' if p == 1 else 'No' for p in predictions]\n",
        "print(applications)"
      ],
      "metadata": {
        "colab": {
          "base_uri": "https://localhost:8080/"
        },
        "id": "53DD5Yv5NKIO",
        "outputId": "671e9fe8-529e-4e67-ed47-687baa0f2542"
      },
      "execution_count": 24,
      "outputs": [
        {
          "output_type": "stream",
          "name": "stdout",
          "text": [
            "  CreditHistory  Debt MaritalStatus  Income AcceptLoan\n",
            "0          good  high       married   80000        Yes\n",
            "1           bad   low      divorced   45000         No\n",
            "2           bad  high        single   65000         No\n",
            "3          good   low      divorced   40000         No\n"
          ]
        }
      ]
    }
  ]
}